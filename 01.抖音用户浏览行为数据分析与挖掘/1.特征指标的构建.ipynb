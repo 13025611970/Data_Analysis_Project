{
 "cells": [
  {
   "cell_type": "markdown",
   "source": [
    "# 抖音用户数据分析\n",
    "    1.特征指标构建"
   ],
   "metadata": {
    "collapsed": false,
    "pycharm": {
     "name": "#%% md\n"
    }
   }
  },
  {
   "cell_type": "markdown",
   "source": [
    "## 0.项目介绍与说明"
   ],
   "metadata": {
    "collapsed": false,
    "pycharm": {
     "name": "#%% md\n"
    }
   }
  },
  {
   "cell_type": "markdown",
   "source": [
    "### 数据集说明\n",
    "|字段名|释义|字段名|释义|字段名|释义|\n",
    "|-----|---|-----|---|------|---|\n",
    "|uid|用户id|user_city|用户城市|item_id|作品id|\n",
    "|author_id|作者id|item_city|作者城市|channel|作品频道|\n",
    "|finish|是否看完|like|是否点赞|music_id|音乐id|\n",
    "|duration_time|作品时长|real_time|具体发布时间|H、data|时、天(发布)|\n"
   ],
   "metadata": {
    "collapsed": false,
    "pycharm": {
     "name": "#%% md\n"
    }
   }
  },
  {
   "cell_type": "code",
   "execution_count": 1,
   "outputs": [],
   "source": [
    "import pandas as pd\n",
    "import numpy as np"
   ],
   "metadata": {
    "collapsed": false,
    "pycharm": {
     "name": "#%%\n"
    }
   }
  },
  {
   "cell_type": "markdown",
   "source": [
    "## 1.数据简单处理"
   ],
   "metadata": {
    "collapsed": false,
    "pycharm": {
     "name": "#%% md\n"
    }
   }
  },
  {
   "cell_type": "code",
   "execution_count": 2,
   "outputs": [
    {
     "data": {
      "text/plain": "   Unnamed: 0    uid  user_city  item_id  author_id  item_city  channel  \\\n0           3  15692      109.0   691661      18212      213.0        0   \n1           5  44071       80.0  1243212      34500       68.0        0   \n2          16  10902      202.0  3845855     634066      113.0        0   \n3          19  25300       21.0  3929579     214923      330.0        0   \n4          24   3656      138.0  2572269     182680       80.0        0   \n\n   finish  like  music_id  duration_time            real_time   H        date  \n0       0     0   11513.0             10  2019-10-28 21:55:10  21  2019-10-28  \n1       0     0    1274.0              9  2019-10-21 22:27:03  22  2019-10-21  \n2       0     0     762.0             10  2019-10-26 00:38:51   0  2019-10-26  \n3       0     0    2332.0             15  2019-10-25 20:36:25  20  2019-10-25  \n4       0     0     238.0              9  2019-10-21 20:46:29  20  2019-10-21  ",
      "text/html": "<div>\n<style scoped>\n    .dataframe tbody tr th:only-of-type {\n        vertical-align: middle;\n    }\n\n    .dataframe tbody tr th {\n        vertical-align: top;\n    }\n\n    .dataframe thead th {\n        text-align: right;\n    }\n</style>\n<table border=\"1\" class=\"dataframe\">\n  <thead>\n    <tr style=\"text-align: right;\">\n      <th></th>\n      <th>Unnamed: 0</th>\n      <th>uid</th>\n      <th>user_city</th>\n      <th>item_id</th>\n      <th>author_id</th>\n      <th>item_city</th>\n      <th>channel</th>\n      <th>finish</th>\n      <th>like</th>\n      <th>music_id</th>\n      <th>duration_time</th>\n      <th>real_time</th>\n      <th>H</th>\n      <th>date</th>\n    </tr>\n  </thead>\n  <tbody>\n    <tr>\n      <th>0</th>\n      <td>3</td>\n      <td>15692</td>\n      <td>109.0</td>\n      <td>691661</td>\n      <td>18212</td>\n      <td>213.0</td>\n      <td>0</td>\n      <td>0</td>\n      <td>0</td>\n      <td>11513.0</td>\n      <td>10</td>\n      <td>2019-10-28 21:55:10</td>\n      <td>21</td>\n      <td>2019-10-28</td>\n    </tr>\n    <tr>\n      <th>1</th>\n      <td>5</td>\n      <td>44071</td>\n      <td>80.0</td>\n      <td>1243212</td>\n      <td>34500</td>\n      <td>68.0</td>\n      <td>0</td>\n      <td>0</td>\n      <td>0</td>\n      <td>1274.0</td>\n      <td>9</td>\n      <td>2019-10-21 22:27:03</td>\n      <td>22</td>\n      <td>2019-10-21</td>\n    </tr>\n    <tr>\n      <th>2</th>\n      <td>16</td>\n      <td>10902</td>\n      <td>202.0</td>\n      <td>3845855</td>\n      <td>634066</td>\n      <td>113.0</td>\n      <td>0</td>\n      <td>0</td>\n      <td>0</td>\n      <td>762.0</td>\n      <td>10</td>\n      <td>2019-10-26 00:38:51</td>\n      <td>0</td>\n      <td>2019-10-26</td>\n    </tr>\n    <tr>\n      <th>3</th>\n      <td>19</td>\n      <td>25300</td>\n      <td>21.0</td>\n      <td>3929579</td>\n      <td>214923</td>\n      <td>330.0</td>\n      <td>0</td>\n      <td>0</td>\n      <td>0</td>\n      <td>2332.0</td>\n      <td>15</td>\n      <td>2019-10-25 20:36:25</td>\n      <td>20</td>\n      <td>2019-10-25</td>\n    </tr>\n    <tr>\n      <th>4</th>\n      <td>24</td>\n      <td>3656</td>\n      <td>138.0</td>\n      <td>2572269</td>\n      <td>182680</td>\n      <td>80.0</td>\n      <td>0</td>\n      <td>0</td>\n      <td>0</td>\n      <td>238.0</td>\n      <td>9</td>\n      <td>2019-10-21 20:46:29</td>\n      <td>20</td>\n      <td>2019-10-21</td>\n    </tr>\n  </tbody>\n</table>\n</div>"
     },
     "execution_count": 2,
     "metadata": {},
     "output_type": "execute_result"
    }
   ],
   "source": [
    "df = pd.read_csv(r'D:\\计算机编程\\Analysis Dataset\\douyin_dataset\\douyin_dataset.csv')\n",
    "df.head()"
   ],
   "metadata": {
    "collapsed": false,
    "pycharm": {
     "name": "#%%\n"
    }
   }
  },
  {
   "cell_type": "markdown",
   "source": [
    "删除无效字段"
   ],
   "metadata": {
    "collapsed": false,
    "pycharm": {
     "name": "#%% md\n"
    }
   }
  },
  {
   "cell_type": "code",
   "execution_count": 3,
   "outputs": [],
   "source": [
    "del df['Unnamed: 0']"
   ],
   "metadata": {
    "collapsed": false,
    "pycharm": {
     "name": "#%%\n"
    }
   }
  },
  {
   "cell_type": "code",
   "execution_count": 4,
   "outputs": [
    {
     "name": "stdout",
     "output_type": "stream",
     "text": [
      "<class 'pandas.core.frame.DataFrame'>\n",
      "RangeIndex: 1737312 entries, 0 to 1737311\n",
      "Data columns (total 13 columns):\n",
      " #   Column         Dtype  \n",
      "---  ------         -----  \n",
      " 0   uid            int64  \n",
      " 1   user_city      float64\n",
      " 2   item_id        int64  \n",
      " 3   author_id      int64  \n",
      " 4   item_city      float64\n",
      " 5   channel        int64  \n",
      " 6   finish         int64  \n",
      " 7   like           int64  \n",
      " 8   music_id       float64\n",
      " 9   duration_time  int64  \n",
      " 10  real_time      object \n",
      " 11  H              int64  \n",
      " 12  date           object \n",
      "dtypes: float64(3), int64(8), object(2)\n",
      "memory usage: 172.3+ MB\n"
     ]
    }
   ],
   "source": [
    "# 基本数据信息\n",
    "df.info()"
   ],
   "metadata": {
    "collapsed": false,
    "pycharm": {
     "name": "#%%\n"
    }
   }
  },
  {
   "cell_type": "markdown",
   "source": [
    "## 2.特征指标构建"
   ],
   "metadata": {
    "collapsed": false,
    "pycharm": {
     "name": "#%% md\n"
    }
   }
  },
  {
   "cell_type": "markdown",
   "source": [
    "### 用户指标分析\n",
    "* 站在用户的角度，涉及到浏览量，点赞量，浏览的作品、作者、BGM的总数等\n",
    "> 浏览量\n",
    "> 点赞量\n",
    "> 完整观看数\n",
    "> 观看作品数\n",
    "> 观看作者数\n",
    "> 去过城市数\n",
    "> 观看作品城市数\n",
    "> 观看配乐数\n",
    "> 观看作品平均时长\n",
    "### 作者指标分析\n",
    "* 站在作者的角度，涉及到总浏览量，总点赞量等\n",
    "> 总浏览量\n",
    "> 总点击量\n",
    "> 总关完量\n",
    "> 总作品数\n",
    "> 作品平均时长\n",
    "> 使用配乐数量\n",
    "> 日发布作品数\n",
    "### 作品指标分析\n",
    "> 浏览量\n",
    "> 点赞量\n",
    "> 发布城市"
   ],
   "metadata": {
    "collapsed": false,
    "pycharm": {
     "name": "#%% md\n"
    }
   }
  },
  {
   "cell_type": "markdown",
   "source": [
    "## 3.特征指标统计分析"
   ],
   "metadata": {
    "collapsed": false,
    "pycharm": {
     "name": "#%% md\n"
    }
   }
  },
  {
   "cell_type": "markdown",
   "source": [
    "### 3.1用户特征指标统计分析"
   ],
   "metadata": {
    "collapsed": false,
    "pycharm": {
     "name": "#%% md\n"
    }
   }
  },
  {
   "cell_type": "code",
   "execution_count": 5,
   "outputs": [],
   "source": [
    "user_df = pd.DataFrame()\n",
    "user_df['uid'] = df.groupby('uid')['like'].count().index.tolist() # 将所有用户的uid提取为uid列\n",
    "user_df.set_index('uid',inplace=True) # 设置uid为索引\n",
    "user_df['浏览量'] = df.groupby('uid')['like'].count() # 统计对应uid下的浏览量\n",
    "user_df['点赞量'] = df.groupby('uid')['like'].sum() # 统计uid下的点赞量\n",
    "user_df['观看作者数'] = df.groupby(['uid']).agg({'author_id':pd.Series.nunique}) # 观看作者数\n",
    "user_df['观看作品数'] = df.groupby(['uid']).agg({'item_id':pd.Series.nunique}) # 观看作品数\n",
    "user_df['观看作品平均时长'] = df.groupby(['uid'])['duration_time'].mean() # 观看作品平均时长\n",
    "user_df['观看配乐数'] = df.groupby(['uid']).agg({'music_id':pd.Series.nunique})\n",
    "user_df['观看完整数'] = df.groupby(['uid'])['finish'].sum() # 统计uid下的完整观看数\n",
    "# 统计对应uid用户去过的城市数量\n",
    "user_df['去过的城市数'] = df.groupby(['uid']).agg({'user_city':pd.Series.nunique})\n",
    "# 统计对应uid用户看的作品所在的城市数量\n",
    "user_df['观看作品城市数'] = df.groupby(['uid']).agg({'item_city':pd.Series.nunique})\n",
    "\n",
    "\n",
    "user_df.to_csv('用户特征.csv',encoding='utf-8-sig')"
   ],
   "metadata": {
    "collapsed": false,
    "pycharm": {
     "name": "#%%\n"
    }
   }
  },
  {
   "cell_type": "markdown",
   "source": [
    "### 3.2作者特征统计分析"
   ],
   "metadata": {
    "collapsed": false,
    "pycharm": {
     "name": "#%% md\n"
    }
   }
  },
  {
   "cell_type": "code",
   "execution_count": 10,
   "outputs": [],
   "source": [
    "author_df = pd.DataFrame()\n",
    "author_df['author_id'] = df.groupby('author_id')['like'].count().index.tolist()\n",
    "author_df.set_index('author_id',inplace=True)\n",
    "author_df['总浏览量'] = df.groupby('author_id')['like'].count()\n",
    "author_df['总点赞量'] = df.groupby('author_id')['like'].sum()\n",
    "author_df['总观完量'] = df.groupby('author_id')['finish'].sum()\n",
    "author_df['总作品数'] = df.groupby('author_id').agg({'item_id':pd.Series.nunique})\n",
    "\n",
    "item_time = df.groupby(['author_id','item_id']).mean(numeric_only=True).reset_index()\n",
    "author_df['作品平均时间'] = item_time.groupby('author_id')['duration_time'].mean()\n",
    "\n",
    "author_df['使用配乐数量'] = df.groupby('author_id').agg({'music_id':pd.Series.nunique})\n",
    "author_df['发布作品日数'] = df.groupby('author_id').agg({'real_time':pd.Series.nunique})\n",
    "\n",
    "author_days = df.groupby('author_id')['date']\n",
    "_ = pd.to_datetime(author_days.max()) - pd.to_datetime(author_days.min())\n",
    "author_df['创作活跃度(日)'] = _.map(lambda x: x/np.timedelta64(1,'D'))\n",
    "author_df['去过的城市数'] = df.groupby(['author_id']).agg({'item_city':pd.Series.nunique})\n",
    "author_df.describe()\n",
    "\n",
    "author_df.to_csv('作者特征.csv',encoding='utf_8_sig')"
   ],
   "metadata": {
    "collapsed": false,
    "pycharm": {
     "name": "#%%\n"
    }
   }
  },
  {
   "cell_type": "markdown",
   "source": [
    "### 3.3作品特征统计分析"
   ],
   "metadata": {
    "collapsed": false,
    "pycharm": {
     "name": "#%% md\n"
    }
   }
  },
  {
   "cell_type": "code",
   "execution_count": 19,
   "outputs": [],
   "source": [
    "item_df = pd.DataFrame()\n",
    "item_df['item_id'] = df.groupby('item_id')['like'].count().index.tolist()\n",
    "item_df.set_index('item_id',inplace=True)\n",
    "item_df['浏览量'] = df.groupby('item_id')['like'].count()\n",
    "item_df['点赞量'] = df.groupby('item_id')['like'].sum()\n",
    "item_df['发布城市'] = df.groupby('item_id')['item_city'].mean()  # 源数据中的item_city字段是数字类型\n",
    "item_df['背景音乐'] = df.groupby('item_id')['music_id'].mean()"
   ],
   "metadata": {
    "collapsed": false,
    "pycharm": {
     "name": "#%%\n"
    }
   }
  },
  {
   "cell_type": "code",
   "execution_count": 21,
   "outputs": [],
   "source": [
    "item_df.to_csv('作品特征.csv',encoding='utf_8_sig')"
   ],
   "metadata": {
    "collapsed": false,
    "pycharm": {
     "name": "#%%\n"
    }
   }
  },
  {
   "cell_type": "markdown",
   "source": [
    "## 4.总结\n",
    "通过对浏览行为数据的认识和分析，构建并提取了用户、作者、作品的特征，特征的构造和提取并不是唯一，如可以统计用户点赞率、作者的观众数等"
   ],
   "metadata": {
    "collapsed": false,
    "pycharm": {
     "name": "#%% md\n"
    }
   }
  },
  {
   "cell_type": "code",
   "execution_count": null,
   "outputs": [],
   "source": [],
   "metadata": {
    "collapsed": false,
    "pycharm": {
     "name": "#%%\n"
    }
   }
  }
 ],
 "metadata": {
  "kernelspec": {
   "display_name": "Python 3",
   "language": "python",
   "name": "python3"
  },
  "language_info": {
   "codemirror_mode": {
    "name": "ipython",
    "version": 2
   },
   "file_extension": ".py",
   "mimetype": "text/x-python",
   "name": "python",
   "nbconvert_exporter": "python",
   "pygments_lexer": "ipython2",
   "version": "2.7.6"
  }
 },
 "nbformat": 4,
 "nbformat_minor": 0
}